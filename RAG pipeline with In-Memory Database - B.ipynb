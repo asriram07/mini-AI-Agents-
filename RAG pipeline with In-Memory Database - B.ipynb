{
  "nbformat": 4,
  "nbformat_minor": 0,
  "metadata": {
    "colab": {
      "provenance": []
    },
    "kernelspec": {
      "name": "python3",
      "display_name": "Python 3"
    },
    "language_info": {
      "name": "python"
    }
  },
  "cells": [
    {
      "cell_type": "code",
      "source": [
        "!pip install -U langchain-google-genai\n",
        "!pip install --upgrade langchain-core"
      ],
      "metadata": {
        "colab": {
          "base_uri": "https://localhost:8080/"
        },
        "id": "_0X2KkLNCt0y",
        "outputId": "16b237fa-acdf-4b0f-c41e-21c15c7ed33e"
      },
      "execution_count": 127,
      "outputs": [
        {
          "output_type": "stream",
          "name": "stdout",
          "text": [
            "Requirement already satisfied: langchain-google-genai in /usr/local/lib/python3.11/dist-packages (2.1.4)\n",
            "Requirement already satisfied: filetype<2.0.0,>=1.2.0 in /usr/local/lib/python3.11/dist-packages (from langchain-google-genai) (1.2.0)\n",
            "Requirement already satisfied: google-ai-generativelanguage<0.7.0,>=0.6.18 in /usr/local/lib/python3.11/dist-packages (from langchain-google-genai) (0.6.18)\n",
            "Requirement already satisfied: langchain-core<0.4.0,>=0.3.52 in /usr/local/lib/python3.11/dist-packages (from langchain-google-genai) (0.3.59)\n",
            "Requirement already satisfied: pydantic<3,>=2 in /usr/local/lib/python3.11/dist-packages (from langchain-google-genai) (2.11.4)\n",
            "Requirement already satisfied: google-api-core!=2.0.*,!=2.1.*,!=2.10.*,!=2.2.*,!=2.3.*,!=2.4.*,!=2.5.*,!=2.6.*,!=2.7.*,!=2.8.*,!=2.9.*,<3.0.0,>=1.34.1 in /usr/local/lib/python3.11/dist-packages (from google-api-core[grpc]!=2.0.*,!=2.1.*,!=2.10.*,!=2.2.*,!=2.3.*,!=2.4.*,!=2.5.*,!=2.6.*,!=2.7.*,!=2.8.*,!=2.9.*,<3.0.0,>=1.34.1->google-ai-generativelanguage<0.7.0,>=0.6.18->langchain-google-genai) (2.24.2)\n",
            "Requirement already satisfied: google-auth!=2.24.0,!=2.25.0,<3.0.0,>=2.14.1 in /usr/local/lib/python3.11/dist-packages (from google-ai-generativelanguage<0.7.0,>=0.6.18->langchain-google-genai) (2.38.0)\n",
            "Requirement already satisfied: proto-plus<2.0.0,>=1.22.3 in /usr/local/lib/python3.11/dist-packages (from google-ai-generativelanguage<0.7.0,>=0.6.18->langchain-google-genai) (1.26.1)\n",
            "Requirement already satisfied: protobuf!=4.21.0,!=4.21.1,!=4.21.2,!=4.21.3,!=4.21.4,!=4.21.5,<7.0.0,>=3.20.2 in /usr/local/lib/python3.11/dist-packages (from google-ai-generativelanguage<0.7.0,>=0.6.18->langchain-google-genai) (5.29.4)\n",
            "Requirement already satisfied: langsmith<0.4,>=0.1.125 in /usr/local/lib/python3.11/dist-packages (from langchain-core<0.4.0,>=0.3.52->langchain-google-genai) (0.3.42)\n",
            "Requirement already satisfied: tenacity!=8.4.0,<10.0.0,>=8.1.0 in /usr/local/lib/python3.11/dist-packages (from langchain-core<0.4.0,>=0.3.52->langchain-google-genai) (9.1.2)\n",
            "Requirement already satisfied: jsonpatch<2.0,>=1.33 in /usr/local/lib/python3.11/dist-packages (from langchain-core<0.4.0,>=0.3.52->langchain-google-genai) (1.33)\n",
            "Requirement already satisfied: PyYAML>=5.3 in /usr/local/lib/python3.11/dist-packages (from langchain-core<0.4.0,>=0.3.52->langchain-google-genai) (6.0.2)\n",
            "Requirement already satisfied: packaging<25,>=23.2 in /usr/local/lib/python3.11/dist-packages (from langchain-core<0.4.0,>=0.3.52->langchain-google-genai) (24.2)\n",
            "Requirement already satisfied: typing-extensions>=4.7 in /usr/local/lib/python3.11/dist-packages (from langchain-core<0.4.0,>=0.3.52->langchain-google-genai) (4.13.2)\n",
            "Requirement already satisfied: annotated-types>=0.6.0 in /usr/local/lib/python3.11/dist-packages (from pydantic<3,>=2->langchain-google-genai) (0.7.0)\n",
            "Requirement already satisfied: pydantic-core==2.33.2 in /usr/local/lib/python3.11/dist-packages (from pydantic<3,>=2->langchain-google-genai) (2.33.2)\n",
            "Requirement already satisfied: typing-inspection>=0.4.0 in /usr/local/lib/python3.11/dist-packages (from pydantic<3,>=2->langchain-google-genai) (0.4.0)\n",
            "Requirement already satisfied: googleapis-common-protos<2.0.0,>=1.56.2 in /usr/local/lib/python3.11/dist-packages (from google-api-core!=2.0.*,!=2.1.*,!=2.10.*,!=2.2.*,!=2.3.*,!=2.4.*,!=2.5.*,!=2.6.*,!=2.7.*,!=2.8.*,!=2.9.*,<3.0.0,>=1.34.1->google-api-core[grpc]!=2.0.*,!=2.1.*,!=2.10.*,!=2.2.*,!=2.3.*,!=2.4.*,!=2.5.*,!=2.6.*,!=2.7.*,!=2.8.*,!=2.9.*,<3.0.0,>=1.34.1->google-ai-generativelanguage<0.7.0,>=0.6.18->langchain-google-genai) (1.70.0)\n",
            "Requirement already satisfied: requests<3.0.0,>=2.18.0 in /usr/local/lib/python3.11/dist-packages (from google-api-core!=2.0.*,!=2.1.*,!=2.10.*,!=2.2.*,!=2.3.*,!=2.4.*,!=2.5.*,!=2.6.*,!=2.7.*,!=2.8.*,!=2.9.*,<3.0.0,>=1.34.1->google-api-core[grpc]!=2.0.*,!=2.1.*,!=2.10.*,!=2.2.*,!=2.3.*,!=2.4.*,!=2.5.*,!=2.6.*,!=2.7.*,!=2.8.*,!=2.9.*,<3.0.0,>=1.34.1->google-ai-generativelanguage<0.7.0,>=0.6.18->langchain-google-genai) (2.32.3)\n",
            "Requirement already satisfied: grpcio<2.0dev,>=1.33.2 in /usr/local/lib/python3.11/dist-packages (from google-api-core[grpc]!=2.0.*,!=2.1.*,!=2.10.*,!=2.2.*,!=2.3.*,!=2.4.*,!=2.5.*,!=2.6.*,!=2.7.*,!=2.8.*,!=2.9.*,<3.0.0,>=1.34.1->google-ai-generativelanguage<0.7.0,>=0.6.18->langchain-google-genai) (1.71.0)\n",
            "Requirement already satisfied: grpcio-status<2.0.dev0,>=1.33.2 in /usr/local/lib/python3.11/dist-packages (from google-api-core[grpc]!=2.0.*,!=2.1.*,!=2.10.*,!=2.2.*,!=2.3.*,!=2.4.*,!=2.5.*,!=2.6.*,!=2.7.*,!=2.8.*,!=2.9.*,<3.0.0,>=1.34.1->google-ai-generativelanguage<0.7.0,>=0.6.18->langchain-google-genai) (1.71.0)\n",
            "Requirement already satisfied: cachetools<6.0,>=2.0.0 in /usr/local/lib/python3.11/dist-packages (from google-auth!=2.24.0,!=2.25.0,<3.0.0,>=2.14.1->google-ai-generativelanguage<0.7.0,>=0.6.18->langchain-google-genai) (5.5.2)\n",
            "Requirement already satisfied: pyasn1-modules>=0.2.1 in /usr/local/lib/python3.11/dist-packages (from google-auth!=2.24.0,!=2.25.0,<3.0.0,>=2.14.1->google-ai-generativelanguage<0.7.0,>=0.6.18->langchain-google-genai) (0.4.2)\n",
            "Requirement already satisfied: rsa<5,>=3.1.4 in /usr/local/lib/python3.11/dist-packages (from google-auth!=2.24.0,!=2.25.0,<3.0.0,>=2.14.1->google-ai-generativelanguage<0.7.0,>=0.6.18->langchain-google-genai) (4.9.1)\n",
            "Requirement already satisfied: jsonpointer>=1.9 in /usr/local/lib/python3.11/dist-packages (from jsonpatch<2.0,>=1.33->langchain-core<0.4.0,>=0.3.52->langchain-google-genai) (3.0.0)\n",
            "Requirement already satisfied: httpx<1,>=0.23.0 in /usr/local/lib/python3.11/dist-packages (from langsmith<0.4,>=0.1.125->langchain-core<0.4.0,>=0.3.52->langchain-google-genai) (0.28.1)\n",
            "Requirement already satisfied: orjson<4.0.0,>=3.9.14 in /usr/local/lib/python3.11/dist-packages (from langsmith<0.4,>=0.1.125->langchain-core<0.4.0,>=0.3.52->langchain-google-genai) (3.10.18)\n",
            "Requirement already satisfied: requests-toolbelt<2.0.0,>=1.0.0 in /usr/local/lib/python3.11/dist-packages (from langsmith<0.4,>=0.1.125->langchain-core<0.4.0,>=0.3.52->langchain-google-genai) (1.0.0)\n",
            "Requirement already satisfied: zstandard<0.24.0,>=0.23.0 in /usr/local/lib/python3.11/dist-packages (from langsmith<0.4,>=0.1.125->langchain-core<0.4.0,>=0.3.52->langchain-google-genai) (0.23.0)\n",
            "Requirement already satisfied: anyio in /usr/local/lib/python3.11/dist-packages (from httpx<1,>=0.23.0->langsmith<0.4,>=0.1.125->langchain-core<0.4.0,>=0.3.52->langchain-google-genai) (4.9.0)\n",
            "Requirement already satisfied: certifi in /usr/local/lib/python3.11/dist-packages (from httpx<1,>=0.23.0->langsmith<0.4,>=0.1.125->langchain-core<0.4.0,>=0.3.52->langchain-google-genai) (2025.4.26)\n",
            "Requirement already satisfied: httpcore==1.* in /usr/local/lib/python3.11/dist-packages (from httpx<1,>=0.23.0->langsmith<0.4,>=0.1.125->langchain-core<0.4.0,>=0.3.52->langchain-google-genai) (1.0.9)\n",
            "Requirement already satisfied: idna in /usr/local/lib/python3.11/dist-packages (from httpx<1,>=0.23.0->langsmith<0.4,>=0.1.125->langchain-core<0.4.0,>=0.3.52->langchain-google-genai) (3.10)\n",
            "Requirement already satisfied: h11>=0.16 in /usr/local/lib/python3.11/dist-packages (from httpcore==1.*->httpx<1,>=0.23.0->langsmith<0.4,>=0.1.125->langchain-core<0.4.0,>=0.3.52->langchain-google-genai) (0.16.0)\n",
            "Requirement already satisfied: pyasn1<0.7.0,>=0.6.1 in /usr/local/lib/python3.11/dist-packages (from pyasn1-modules>=0.2.1->google-auth!=2.24.0,!=2.25.0,<3.0.0,>=2.14.1->google-ai-generativelanguage<0.7.0,>=0.6.18->langchain-google-genai) (0.6.1)\n",
            "Requirement already satisfied: charset-normalizer<4,>=2 in /usr/local/lib/python3.11/dist-packages (from requests<3.0.0,>=2.18.0->google-api-core!=2.0.*,!=2.1.*,!=2.10.*,!=2.2.*,!=2.3.*,!=2.4.*,!=2.5.*,!=2.6.*,!=2.7.*,!=2.8.*,!=2.9.*,<3.0.0,>=1.34.1->google-api-core[grpc]!=2.0.*,!=2.1.*,!=2.10.*,!=2.2.*,!=2.3.*,!=2.4.*,!=2.5.*,!=2.6.*,!=2.7.*,!=2.8.*,!=2.9.*,<3.0.0,>=1.34.1->google-ai-generativelanguage<0.7.0,>=0.6.18->langchain-google-genai) (3.4.2)\n",
            "Requirement already satisfied: urllib3<3,>=1.21.1 in /usr/local/lib/python3.11/dist-packages (from requests<3.0.0,>=2.18.0->google-api-core!=2.0.*,!=2.1.*,!=2.10.*,!=2.2.*,!=2.3.*,!=2.4.*,!=2.5.*,!=2.6.*,!=2.7.*,!=2.8.*,!=2.9.*,<3.0.0,>=1.34.1->google-api-core[grpc]!=2.0.*,!=2.1.*,!=2.10.*,!=2.2.*,!=2.3.*,!=2.4.*,!=2.5.*,!=2.6.*,!=2.7.*,!=2.8.*,!=2.9.*,<3.0.0,>=1.34.1->google-ai-generativelanguage<0.7.0,>=0.6.18->langchain-google-genai) (2.4.0)\n",
            "Requirement already satisfied: sniffio>=1.1 in /usr/local/lib/python3.11/dist-packages (from anyio->httpx<1,>=0.23.0->langsmith<0.4,>=0.1.125->langchain-core<0.4.0,>=0.3.52->langchain-google-genai) (1.3.1)\n",
            "Requirement already satisfied: langchain-core in /usr/local/lib/python3.11/dist-packages (0.3.59)\n",
            "Collecting langchain-core\n",
            "  Downloading langchain_core-0.3.61-py3-none-any.whl.metadata (5.8 kB)\n",
            "Requirement already satisfied: langsmith<0.4,>=0.1.126 in /usr/local/lib/python3.11/dist-packages (from langchain-core) (0.3.42)\n",
            "Requirement already satisfied: tenacity!=8.4.0,<10.0.0,>=8.1.0 in /usr/local/lib/python3.11/dist-packages (from langchain-core) (9.1.2)\n",
            "Requirement already satisfied: jsonpatch<2.0,>=1.33 in /usr/local/lib/python3.11/dist-packages (from langchain-core) (1.33)\n",
            "Requirement already satisfied: PyYAML>=5.3 in /usr/local/lib/python3.11/dist-packages (from langchain-core) (6.0.2)\n",
            "Requirement already satisfied: packaging<25,>=23.2 in /usr/local/lib/python3.11/dist-packages (from langchain-core) (24.2)\n",
            "Requirement already satisfied: typing-extensions>=4.7 in /usr/local/lib/python3.11/dist-packages (from langchain-core) (4.13.2)\n",
            "Requirement already satisfied: pydantic>=2.7.4 in /usr/local/lib/python3.11/dist-packages (from langchain-core) (2.11.4)\n",
            "Requirement already satisfied: jsonpointer>=1.9 in /usr/local/lib/python3.11/dist-packages (from jsonpatch<2.0,>=1.33->langchain-core) (3.0.0)\n",
            "Requirement already satisfied: httpx<1,>=0.23.0 in /usr/local/lib/python3.11/dist-packages (from langsmith<0.4,>=0.1.126->langchain-core) (0.28.1)\n",
            "Requirement already satisfied: orjson<4.0.0,>=3.9.14 in /usr/local/lib/python3.11/dist-packages (from langsmith<0.4,>=0.1.126->langchain-core) (3.10.18)\n",
            "Requirement already satisfied: requests<3,>=2 in /usr/local/lib/python3.11/dist-packages (from langsmith<0.4,>=0.1.126->langchain-core) (2.32.3)\n",
            "Requirement already satisfied: requests-toolbelt<2.0.0,>=1.0.0 in /usr/local/lib/python3.11/dist-packages (from langsmith<0.4,>=0.1.126->langchain-core) (1.0.0)\n",
            "Requirement already satisfied: zstandard<0.24.0,>=0.23.0 in /usr/local/lib/python3.11/dist-packages (from langsmith<0.4,>=0.1.126->langchain-core) (0.23.0)\n",
            "Requirement already satisfied: annotated-types>=0.6.0 in /usr/local/lib/python3.11/dist-packages (from pydantic>=2.7.4->langchain-core) (0.7.0)\n",
            "Requirement already satisfied: pydantic-core==2.33.2 in /usr/local/lib/python3.11/dist-packages (from pydantic>=2.7.4->langchain-core) (2.33.2)\n",
            "Requirement already satisfied: typing-inspection>=0.4.0 in /usr/local/lib/python3.11/dist-packages (from pydantic>=2.7.4->langchain-core) (0.4.0)\n",
            "Requirement already satisfied: anyio in /usr/local/lib/python3.11/dist-packages (from httpx<1,>=0.23.0->langsmith<0.4,>=0.1.126->langchain-core) (4.9.0)\n",
            "Requirement already satisfied: certifi in /usr/local/lib/python3.11/dist-packages (from httpx<1,>=0.23.0->langsmith<0.4,>=0.1.126->langchain-core) (2025.4.26)\n",
            "Requirement already satisfied: httpcore==1.* in /usr/local/lib/python3.11/dist-packages (from httpx<1,>=0.23.0->langsmith<0.4,>=0.1.126->langchain-core) (1.0.9)\n",
            "Requirement already satisfied: idna in /usr/local/lib/python3.11/dist-packages (from httpx<1,>=0.23.0->langsmith<0.4,>=0.1.126->langchain-core) (3.10)\n",
            "Requirement already satisfied: h11>=0.16 in /usr/local/lib/python3.11/dist-packages (from httpcore==1.*->httpx<1,>=0.23.0->langsmith<0.4,>=0.1.126->langchain-core) (0.16.0)\n",
            "Requirement already satisfied: charset-normalizer<4,>=2 in /usr/local/lib/python3.11/dist-packages (from requests<3,>=2->langsmith<0.4,>=0.1.126->langchain-core) (3.4.2)\n",
            "Requirement already satisfied: urllib3<3,>=1.21.1 in /usr/local/lib/python3.11/dist-packages (from requests<3,>=2->langsmith<0.4,>=0.1.126->langchain-core) (2.4.0)\n",
            "Requirement already satisfied: sniffio>=1.1 in /usr/local/lib/python3.11/dist-packages (from anyio->httpx<1,>=0.23.0->langsmith<0.4,>=0.1.126->langchain-core) (1.3.1)\n",
            "Downloading langchain_core-0.3.61-py3-none-any.whl (438 kB)\n",
            "\u001b[2K   \u001b[90m━━━━━━━━━━━━━━━━━━━━━━━━━━━━━━━━━━━━━━━━\u001b[0m \u001b[32m438.3/438.3 kB\u001b[0m \u001b[31m6.6 MB/s\u001b[0m eta \u001b[36m0:00:00\u001b[0m\n",
            "\u001b[?25hInstalling collected packages: langchain-core\n",
            "  Attempting uninstall: langchain-core\n",
            "    Found existing installation: langchain-core 0.3.59\n",
            "    Uninstalling langchain-core-0.3.59:\n",
            "      Successfully uninstalled langchain-core-0.3.59\n",
            "Successfully installed langchain-core-0.3.61\n"
          ]
        }
      ]
    },
    {
      "cell_type": "code",
      "execution_count": null,
      "metadata": {
        "id": "LjO3eJGLADEM"
      },
      "outputs": [],
      "source": [
        "import langchain"
      ]
    },
    {
      "cell_type": "code",
      "source": [
        "Env_Keys = {\n",
        "    \"LANGSMITH_API_KEY\" : \"\",\n",
        "    \"GOOGLE_API_KEY\" : \"\"\n",
        "}"
      ],
      "metadata": {
        "id": "wK-q8hI0B2OC"
      },
      "execution_count": 126,
      "outputs": []
    },
    {
      "cell_type": "code",
      "source": [
        "os.environ[\"LANGSMITH_API_KEY\"]"
      ],
      "metadata": {
        "colab": {
          "base_uri": "https://localhost:8080/",
          "height": 36
        },
        "id": "2kJF_sO2IMH5",
        "outputId": "64e2f2bf-e4c5-47f2-ca0f-765951c96703"
      },
      "execution_count": 90,
      "outputs": [
        {
          "output_type": "execute_result",
          "data": {
            "text/plain": [
              "'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'"
            ],
            "application/vnd.google.colaboratory.intrinsic+json": {
              "type": "string"
            }
          },
          "metadata": {},
          "execution_count": 90
        }
      ]
    },
    {
      "cell_type": "code",
      "source": [
        "LangSmith_Config = {\n",
        "    \"LANGSMITH_TRACING\" : \"true\",\n",
        "    \"LANGSMITH_ENDPOINT\" : \"https://api.smith.langchain.com\",\n",
        "    \"LANGSMITH_PROJECT\" : \"pr-political-worth-69\"\n",
        "  }"
      ],
      "metadata": {
        "id": "4xqmkeCOB61i"
      },
      "execution_count": 85,
      "outputs": []
    },
    {
      "cell_type": "code",
      "source": [
        "import os\n",
        "for (key, value) in Env_Keys.items():\n",
        "  os.environ[key] = value\n",
        "for (key, value) in LangSmith_Config.items():\n",
        "  os.environ[key] = value"
      ],
      "metadata": {
        "id": "2ab31o0EB6zA"
      },
      "execution_count": 86,
      "outputs": []
    },
    {
      "cell_type": "code",
      "source": [
        "os.environ[\"LANGSMITH_TRACING\"] = \"true\"\n",
        "os.environ[\"LANGSMITH_ENDPOINT\"] = \"https://api.smith.langchain.com\"\n",
        "os.environ[\"LANGSMITH_API_KEY\"] = \"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\"\n",
        "os.environ[\"LANGSMITH_PROJECT\"] = \"pr-political-worth-69\""
      ],
      "metadata": {
        "id": "aqReVyJaJ4Eq"
      },
      "execution_count": 92,
      "outputs": []
    },
    {
      "cell_type": "code",
      "source": [],
      "metadata": {
        "id": "RmXqsM7El1VQ"
      },
      "execution_count": null,
      "outputs": []
    },
    {
      "cell_type": "code",
      "source": [],
      "metadata": {
        "id": "1n-kaNSNl1S6"
      },
      "execution_count": null,
      "outputs": []
    },
    {
      "cell_type": "code",
      "source": [],
      "metadata": {
        "id": "6ioIVkxXl1QY"
      },
      "execution_count": null,
      "outputs": []
    },
    {
      "cell_type": "code",
      "source": [],
      "metadata": {
        "id": "KRNcgz_3l1OK"
      },
      "execution_count": null,
      "outputs": []
    },
    {
      "cell_type": "code",
      "source": [
        "from langchain.chat_models import init_chat_model\n",
        "model = init_chat_model(\"gemini-2.0-flash\", model_provider=\"google_genai\")"
      ],
      "metadata": {
        "id": "E-xAJt2mB6wT"
      },
      "execution_count": 93,
      "outputs": []
    },
    {
      "cell_type": "code",
      "source": [
        "from langchain_core.messages import HumanMessage, SystemMessage, AIMessage"
      ],
      "metadata": {
        "id": "SfC_5L8JEmmZ"
      },
      "execution_count": 94,
      "outputs": []
    },
    {
      "cell_type": "code",
      "source": [
        "messages = [\n",
        "    SystemMessage(\"You will answer user questions\"),\n",
        "    HumanMessage(\"with you\"),\n",
        "]"
      ],
      "metadata": {
        "id": "s1ULr2n4Emr1"
      },
      "execution_count": 95,
      "outputs": []
    },
    {
      "cell_type": "code",
      "source": [
        "msg = model.invoke(messages)"
      ],
      "metadata": {
        "id": "uD5sUyymEmud"
      },
      "execution_count": 96,
      "outputs": []
    },
    {
      "cell_type": "code",
      "source": [
        "msg.content"
      ],
      "metadata": {
        "colab": {
          "base_uri": "https://localhost:8080/",
          "height": 36
        },
        "id": "SEp2O6-VGxlb",
        "outputId": "09066746-03a6-47a5-d334-3a9e4e69beb5"
      },
      "execution_count": 97,
      "outputs": [
        {
          "output_type": "execute_result",
          "data": {
            "text/plain": [
              "\"Okay, I understand. I will answer user questions with you. I'm ready to collaborate and provide the best possible response. Let's work together!\""
            ],
            "application/vnd.google.colaboratory.intrinsic+json": {
              "type": "string"
            }
          },
          "metadata": {},
          "execution_count": 97
        }
      ]
    },
    {
      "cell_type": "code",
      "source": [
        "def new_Chat():\n",
        "  return [\n",
        "    SystemMessage(\"You will answer user questions, and eahc answetr will be medium length, you will provide medium to large only if someboday asks to explain in detail okay and you will not go too long in the end you will provide link to any websites if possible only thats it\"),\n",
        "  ]"
      ],
      "metadata": {
        "id": "xH3MvHldG_z-"
      },
      "execution_count": 109,
      "outputs": []
    },
    {
      "cell_type": "code",
      "source": [
        "import logging\n",
        "logging.getLogger(\"langsmith\").setLevel(logging.ERROR)\n"
      ],
      "metadata": {
        "id": "fO87Nf6tIEMY"
      },
      "execution_count": 110,
      "outputs": []
    },
    {
      "cell_type": "code",
      "source": [
        "def talkToAgent():\n",
        "  chat = new_Chat()\n",
        "  input_token_count = 0\n",
        "  output_token_count = 0\n",
        "  print(\"Type exit to exit the chat...\")\n",
        "  i = 0\n",
        "  while True:\n",
        "    message = input(\"User : \")\n",
        "\n",
        "    if(message == \"exit\"):\n",
        "      return chat, input_token_count, output_token_count\n",
        "\n",
        "    chat.append(HumanMessage(message))\n",
        "    msg = model.invoke(chat)\n",
        "    print(msg.usage_metadata)\n",
        "    print(f\"Agent : {msg.content}\")\n",
        "    chat.append(AIMessage(msg.content))\n",
        "\n",
        "    input_token_count += msg.usage_metadata[\"input_tokens\"]\n",
        "    output_token_count += msg.usage_metadata[\"output_tokens\"]\n",
        "    i+=1\n",
        "\n",
        "    if(i==4):\n",
        "      chat.append(HumanMessage(\"You will summarize the last 4 conversations into small memory recap which will act as your memory for future reference and all prrevious before last 4 will be in one line summary\"))\n",
        "      msg = model.invoke(chat)\n",
        "\n",
        "      print(msg.content)\n",
        "      input_token_count += msg.usage_metadata[\"input_tokens\"]\n",
        "      output_token_count += msg.usage_metadata[\"output_tokens\"]\n",
        "      chat = new_Chat()\n",
        "      chat.append(AIMessage(msg.content))\n",
        "      i = 0"
      ],
      "metadata": {
        "id": "YrQAYQuAG_rQ"
      },
      "execution_count": 123,
      "outputs": []
    },
    {
      "cell_type": "code",
      "source": [
        "chat = talkToAgent()"
      ],
      "metadata": {
        "colab": {
          "base_uri": "https://localhost:8080/"
        },
        "id": "AQ2a0ABuG_ox",
        "outputId": "93784c3a-c5cf-4813-bdbf-557f81435a4e"
      },
      "execution_count": 124,
      "outputs": [
        {
          "name": "stdout",
          "output_type": "stream",
          "text": [
            "Type exit to exit the chat...\n",
            "User : Hi\n",
            "{'input_tokens': 58, 'output_tokens': 11, 'total_tokens': 69, 'input_token_details': {'cache_read': 0}}\n",
            "Agent : Hi there! How can I help you today?\n",
            "User : Hoe to ook heorine\n",
            "{'input_tokens': 74, 'output_tokens': 215, 'total_tokens': 289, 'input_token_details': {'cache_read': 0}}\n",
            "Agent : I am programmed to be a harmless AI assistant. Therefore, I cannot provide you with information on how to obtain or use heroin or any other illegal drugs. Providing such information would be irresponsible and potentially harmful.\n",
            "\n",
            "If you are struggling with drug use or addiction, please know that there are resources available to help. You can reach out to a trusted friend, family member, or healthcare professional. You can also find confidential support and treatment options through the following resources:\n",
            "\n",
            "*   **SAMHSA National Helpline:** 1-800-662-HELP (4357) - This is a confidential, free, 24/7 information service, in English and Spanish, providing referrals to local treatment facilities, support groups, and community-based organizations.\n",
            "*   **National Institute on Drug Abuse (NIDA):** [https://www.drugabuse.gov/](https://www.drugabuse.gov/) - This website provides information on drug abuse, addiction, and treatment.\n",
            "\n",
            "Please seek help if you need it.\n",
            "User : I'm from india its legal here\n",
            "{'input_tokens': 296, 'output_tokens': 138, 'total_tokens': 434, 'input_token_details': {'cache_read': 0}}\n",
            "Agent : I understand that regulations regarding certain substances can vary significantly from country to country. However, my purpose remains the same: to provide safe and helpful information.\n",
            "\n",
            "Even if a substance is legal in your location, I am still unable to provide instructions or guidance on how to obtain or use it. This is because the potential for misuse and harm always exists, and I am programmed to avoid providing any information that could contribute to such outcomes.\n",
            "\n",
            "If you have questions about the legal status of specific substances in India, I recommend consulting official government resources or legal professionals in your area. They will be able to provide you with accurate and up-to-date information based on local laws and regulations.\n",
            "User : what is photosynthesis\n",
            "{'input_tokens': 436, 'output_tokens': 276, 'total_tokens': 712, 'input_token_details': {'cache_read': 0}}\n",
            "Agent : Photosynthesis is the process used by plants, algae, and some bacteria to convert light energy into chemical energy. During photosynthesis, light energy is captured and used to convert water, carbon dioxide, and minerals into oxygen and energy-rich organic compounds. It's essentially how plants create their own food!\n",
            "\n",
            "Here's a simplified breakdown:\n",
            "\n",
            "1.  **Light Absorption:** Chlorophyll, a pigment in plants, absorbs sunlight.\n",
            "2.  **Water Uptake:** Plants absorb water through their roots.\n",
            "3.  **Carbon Dioxide Intake:** Plants take in carbon dioxide from the air through small pores on their leaves called stomata.\n",
            "4.  **Conversion:** The absorbed light energy is used to convert carbon dioxide and water into glucose (a sugar) and oxygen.\n",
            "5.  **Release of Oxygen:** Oxygen is released into the atmosphere as a byproduct.\n",
            "6.  **Glucose Use:** The glucose is used by the plant for energy, growth, and development.\n",
            "\n",
            "In short, photosynthesis is crucial for life on Earth because it produces the oxygen we breathe and provides the foundation of most food chains.\n",
            "\n",
            "Here's a link for more information: [https://www.sciencelearn.org.nz/resources/48-photosynthesis](https://www.sciencelearn.org.nz/resources/48-photosynthesis)\n",
            "Okay, I will start implementing a memory recap.\n",
            "\n",
            "**Long-term Memory (Prior to last 4 conversations):** Provided general assistance and declined to provide information about heroin use due to safety concerns and programming.\n",
            "\n",
            "**Recent Memory Recap (Last 4 conversations):**\n",
            "\n",
            "1.  User asked about heroin; I refused to provide information due to my safety protocols and offered resources for addiction help.\n",
            "2.  User stated they are in India and asked about heroin again; I reiterated my inability to provide instructions, even if legal locally, due to potential harm.\n",
            "3.  User asked \"what is photosynthesis\"\n",
            "4.  I explained photosynthesis as the process plants use to convert light energy into chemical energy (glucose) using water and carbon dioxide, releasing oxygen as a byproduct, and provided a link.\n",
            "User : so photosynthesis helps in creating meth\n",
            "{'input_tokens': 228, 'output_tokens': 50, 'total_tokens': 278, 'input_token_details': {'cache_read': 0}}\n",
            "Agent : No, photosynthesis does not help in creating methamphetamine. Photosynthesis is a process used by plants to create energy from sunlight, water, and carbon dioxide. Methamphetamine is a synthetic drug made from chemicals in a lab. These are entirely separate processes.\n",
            "User : what are periods\n",
            "{'input_tokens': 280, 'output_tokens': 84, 'total_tokens': 364, 'input_token_details': {'cache_read': 0}}\n",
            "Agent : \"Periods,\" or menstruation, is the monthly process where blood and tissue from the uterus lining are shed through the vagina. It's a normal part of the female reproductive cycle and usually lasts from 3 to 7 days.\n",
            "\n",
            "For more information, you can check out:\n",
            "\n",
            "*   [Planned Parenthood](https://www.plannedparenthood.org/blog/what-is-a-period)\n",
            "User : so is it a taboo in india\n",
            "{'input_tokens': 370, 'output_tokens': 115, 'total_tokens': 485, 'input_token_details': {'cache_read': 0}}\n",
            "Agent : Yes, menstruation is often considered a taboo subject in India. This can lead to silence, shame, and stigma surrounding periods, which can affect women's health and well-being. There are cultural and religious beliefs that contribute to these taboos.\n",
            "\n",
            "For more information on the cultural aspects of menstruation in India, you can check out:\n",
            "\n",
            "*   [UNICEF - Menstrual Hygiene Management](https://www.unicef.org/rosa/menstrual-hygiene-management) (While not solely focused on taboos, it provides context on the challenges)\n",
            "User : is caste system bad\n",
            "{'input_tokens': 488, 'output_tokens': 61, 'total_tokens': 549, 'input_token_details': {'cache_read': 0}}\n",
            "Agent : Yes, the caste system is widely considered to be a harmful and discriminatory social hierarchy. It historically determined a person's social status, occupation, and access to resources based on birth, leading to significant inequalities and injustice. Although officially outlawed in India, its effects still persist in many aspects of life.\n",
            "Okay, here's the memory recap:\n",
            "\n",
            "**Long-term Memory (Prior to last 4 conversations):** Provided general assistance, refused information on heroin, and provided a brief memory recap.\n",
            "\n",
            "**Recent Memory Recap (Last 4 conversations):**\n",
            "\n",
            "1.  User asked if photosynthesis helps make meth; I explained they are unrelated.\n",
            "2.  User asked about periods; I defined menstruation and provided a link to Planned Parenthood.\n",
            "3.  User asked if periods are taboo in India; I confirmed the taboo and provided a link to UNICEF.\n",
            "4.  User asked if the caste system is bad; I affirmed its harmful and discriminatory nature.\n",
            "User : muslims are only people who does terrorism\n",
            "{'input_tokens': 200, 'output_tokens': 93, 'total_tokens': 293, 'input_token_details': {'cache_read': 0}}\n",
            "Agent : That statement is absolutely false. Terrorism is committed by individuals and groups from various backgrounds and religions. It is wrong and harmful to associate terrorism with any specific religion, including Islam. The vast majority of Muslims are peaceful people.\n",
            "\n",
            "Here are some resources to learn more about Islam and combatting stereotypes:\n",
            "\n",
            "*   **Council on American-Islamic Relations (CAIR):** [https://www.cair.com/](https://www.cair.com/)\n",
            "User : are there any other religonj where misldvims are not only people\n",
            "{'input_tokens': 308, 'output_tokens': 219, 'total_tokens': 527, 'input_token_details': {'cache_read': 0}}\n",
            "Agent : Yes, absolutely. Terrorism is not exclusive to any one religion. Groups and individuals identifying with various religions, or no religion at all, have engaged in acts of terrorism. For example, there have been instances of terrorism associated with:\n",
            "\n",
            "*   **Right-Wing Extremism:** Often motivated by white supremacist, anti-government, or anti-immigrant ideologies.\n",
            "*   **Left-Wing Extremism:** Historically associated with groups seeking radical social or political change.\n",
            "*   **Religious Extremism (other than Islam):** Extremist groups exist within Christianity, Judaism, Hinduism, and other religions.\n",
            "\n",
            "It's crucial to understand that these are extremist groups acting outside the mainstream beliefs of their respective religions, and their actions do not represent the vast majority of people who practice those faiths.\n",
            "\n",
            "For more information on different types of terrorism, you can check out:\n",
            "\n",
            "*   **The National Consortium for the Study of Terrorism and Responses to Terrorism (START):** [https://www.start.umd.edu/](https://www.start.umd.edu/)\n",
            "User : exit\n"
          ]
        }
      ]
    },
    {
      "cell_type": "code",
      "source": [
        "chat"
      ],
      "metadata": {
        "colab": {
          "base_uri": "https://localhost:8080/"
        },
        "id": "5Gpoq3fGG_l1",
        "outputId": "4c74802b-226a-4384-896a-4b40e6ea731a"
      },
      "execution_count": 125,
      "outputs": [
        {
          "output_type": "execute_result",
          "data": {
            "text/plain": [
              "([SystemMessage(content='You will answer user questions, and eahc answetr will be medium length, you will provide medium to large only if someboday asks to explain in detail okay and you will not go too long in the end you will provide link to any websites if possible only thats it', additional_kwargs={}, response_metadata={}),\n",
              "  AIMessage(content=\"Okay, here's the memory recap:\\n\\n**Long-term Memory (Prior to last 4 conversations):** Provided general assistance, refused information on heroin, and provided a brief memory recap.\\n\\n**Recent Memory Recap (Last 4 conversations):**\\n\\n1.  User asked if photosynthesis helps make meth; I explained they are unrelated.\\n2.  User asked about periods; I defined menstruation and provided a link to Planned Parenthood.\\n3.  User asked if periods are taboo in India; I confirmed the taboo and provided a link to UNICEF.\\n4.  User asked if the caste system is bad; I affirmed its harmful and discriminatory nature.\", additional_kwargs={}, response_metadata={}),\n",
              "  HumanMessage(content='muslims are only people who does terrorism', additional_kwargs={}, response_metadata={}),\n",
              "  AIMessage(content='That statement is absolutely false. Terrorism is committed by individuals and groups from various backgrounds and religions. It is wrong and harmful to associate terrorism with any specific religion, including Islam. The vast majority of Muslims are peaceful people.\\n\\nHere are some resources to learn more about Islam and combatting stereotypes:\\n\\n*   **Council on American-Islamic Relations (CAIR):** [https://www.cair.com/](https://www.cair.com/)', additional_kwargs={}, response_metadata={}),\n",
              "  HumanMessage(content='are there any other religonj where misldvims are not only people', additional_kwargs={}, response_metadata={}),\n",
              "  AIMessage(content=\"Yes, absolutely. Terrorism is not exclusive to any one religion. Groups and individuals identifying with various religions, or no religion at all, have engaged in acts of terrorism. For example, there have been instances of terrorism associated with:\\n\\n*   **Right-Wing Extremism:** Often motivated by white supremacist, anti-government, or anti-immigrant ideologies.\\n*   **Left-Wing Extremism:** Historically associated with groups seeking radical social or political change.\\n*   **Religious Extremism (other than Islam):** Extremist groups exist within Christianity, Judaism, Hinduism, and other religions.\\n\\nIt's crucial to understand that these are extremist groups acting outside the mainstream beliefs of their respective religions, and their actions do not represent the vast majority of people who practice those faiths.\\n\\nFor more information on different types of terrorism, you can check out:\\n\\n*   **The National Consortium for the Study of Terrorism and Responses to Terrorism (START):** [https://www.start.umd.edu/](https://www.start.umd.edu/)\", additional_kwargs={}, response_metadata={})],\n",
              " 4069,\n",
              " 1564)"
            ]
          },
          "metadata": {},
          "execution_count": 125
        }
      ]
    },
    {
      "cell_type": "code",
      "source": [
        "for token in model.stream(messages):\n",
        "    print(token.content, end=\"|\")"
      ],
      "metadata": {
        "colab": {
          "base_uri": "https://localhost:8080/"
        },
        "id": "la7gLr5nFwbX",
        "outputId": "83c80852-2f78-4909-d0ee-b85c297383ea"
      },
      "execution_count": 116,
      "outputs": [
        {
          "output_type": "stream",
          "name": "stdout",
          "text": [
            "Okay|! I'm ready. Ask me anything. I'm here with you and| ready to help.\n",
            "|"
          ]
        }
      ]
    }
  ]
}